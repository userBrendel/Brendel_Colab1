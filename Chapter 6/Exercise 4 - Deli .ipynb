{
  "nbformat": 4,
  "nbformat_minor": 0,
  "metadata": {
    "colab": {
      "provenance": []
    },
    "kernelspec": {
      "name": "python3",
      "display_name": "Python 3"
    },
    "language_info": {
      "name": "python"
    }
  },
  "cells": [
    {
      "cell_type": "code",
      "execution_count": 1,
      "metadata": {
        "colab": {
          "base_uri": "https://localhost:8080/"
        },
        "id": "uBmfvt5gvLyT",
        "outputId": "8bbf51e3-b4e9-4853-816c-840490e6ab69"
      },
      "outputs": [
        {
          "output_type": "stream",
          "name": "stdout",
          "text": [
            "I made your grilled cheese sandwich.\n",
            "I made your tuna sandwich.\n",
            "I made your Turkey sandwich.\n",
            "I made your Tuna sandwich.\n",
            "\n",
            "\n",
            "Sandwich orders served:\n",
            "grilled cheese Sandwich\n",
            "tuna Sandwich\n",
            "Turkey Sandwich\n",
            "Tuna Sandwich\n"
          ]
        }
      ],
      "source": [
        "sandwich_order = ['Tuna', 'Turkey', 'tuna', 'grilled cheese'] #list of sandwich\n",
        "finished_sandwiches = []#empty list\n",
        "\n",
        "while sandwich_order: # loop\n",
        "  current_sandwich = sandwich_order.pop() #variable\n",
        "  print(\"I made your \" + current_sandwich + \" sandwich.\")#Sentence\n",
        "  finished_sandwiches.append(current_sandwich) #Adding data with append\n",
        "\n",
        "\n",
        "print(\"\\n\")\n",
        "print('Sandwich orders served:')#Finished orders!\n",
        "for sandwich in finished_sandwiches:\n",
        "  print(sandwich,'Sandwich')\n"
      ]
    }
  ]
}