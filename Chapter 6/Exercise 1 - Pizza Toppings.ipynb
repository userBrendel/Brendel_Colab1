{
  "nbformat": 4,
  "nbformat_minor": 0,
  "metadata": {
    "colab": {
      "provenance": []
    },
    "kernelspec": {
      "name": "python3",
      "display_name": "Python 3"
    },
    "language_info": {
      "name": "python"
    }
  },
  "cells": [
    {
      "cell_type": "code",
      "execution_count": 3,
      "metadata": {
        "colab": {
          "base_uri": "https://localhost:8080/"
        },
        "id": "tEii_hrRnYsi",
        "outputId": "120a6881-ae15-4f24-85d7-23ea4a166743"
      },
      "outputs": [
        {
          "name": "stdout",
          "output_type": "stream",
          "text": [
            "\n",
            "What topping would you like on your pizza?\n",
            "Enter 'quit' when you are finished: pepperoni\n",
            "  I'll add pepperoni on your pizza.\n",
            "\n",
            "What topping would you like on your pizza?\n",
            "Enter 'quit' when you are finished: more cheese\n",
            "  I'll add more cheese on your pizza.\n",
            "\n",
            "What topping would you like on your pizza?\n",
            "Enter 'quit' when you are finished: olives\n",
            "  I'll add olives on your pizza.\n",
            "\n",
            "What topping would you like on your pizza?\n",
            "Enter 'quit' when you are finished: quit\n"
          ]
        }
      ],
      "source": [
        "msg = \"\\nWhat topping would you like on your pizza?\" #asing the user \n",
        "msg += \"\\nEnter 'quit' when you are finished: \" #instruction for the user\n",
        "\n",
        "while True: # 'while true'  is a practice followed to indicate that the loop has to run until it breaks. \n",
        "    topping = input(msg) # In able for the user to input a data\n",
        "    if topping != 'quit': # if they input 'quit'\n",
        "        print(\"  I'll add \" + topping + \" on your pizza.\") # result user will get when they add data(if quit it will break/end)\n",
        "    else:   \n",
        "        break #terminates the loop containing it"
      ]
    }
  ]
}