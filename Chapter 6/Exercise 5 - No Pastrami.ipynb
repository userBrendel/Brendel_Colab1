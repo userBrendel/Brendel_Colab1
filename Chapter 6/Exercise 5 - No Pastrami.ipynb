{
  "nbformat": 4,
  "nbformat_minor": 0,
  "metadata": {
    "colab": {
      "provenance": []
    },
    "kernelspec": {
      "name": "python3",
      "display_name": "Python 3"
    },
    "language_info": {
      "name": "python"
    }
  },
  "cells": [
    {
      "cell_type": "code",
      "execution_count": 6,
      "metadata": {
        "colab": {
          "base_uri": "https://localhost:8080/"
        },
        "id": "1VC4Bza9zFkh",
        "outputId": "8b0d888e-626b-4f10-c90f-e9e0da3a10d7"
      },
      "outputs": [
        {
          "output_type": "stream",
          "name": "stdout",
          "text": [
            "Pastrami is currently unavailable.\n",
            "\n",
            "\n",
            "['Tuna', 'Turkey', 'tuna', 'grilled cheese']\n",
            "I made your grilled cheese sandwich.\n",
            "I made your tuna sandwich.\n",
            "I made your Turkey sandwich.\n",
            "I made your Tuna sandwich.\n",
            "\n",
            "\n",
            "Sandwich orders served:\n",
            "grilled cheese Sandwich\n",
            "tuna Sandwich\n",
            "Turkey Sandwich\n",
            "Tuna Sandwich\n"
          ]
        }
      ],
      "source": [
        "sandwich_order = ['Pastrami','Tuna', 'Turkey','Pastrami', 'tuna', 'grilled cheese', 'Pastrami',] #list of sandwich\n",
        "finished_sandwiches = []#empty list\n",
        "\n",
        "print(\"Pastrami is currently unavailable.\")\n",
        "while 'Pastrami' in sandwich_order:\n",
        "    sandwich_order.remove('Pastrami')\n",
        "print('\\n')\n",
        "print(sandwich_order)#result of removing pastrami in the list. pastrami is no longer in the list.    \n",
        "\n",
        "while sandwich_order: # loop\n",
        "  current_sandwich = sandwich_order.pop() #variable\n",
        "  print(\"I made your \" + current_sandwich + \" sandwich.\")#Sentence\n",
        "  finished_sandwiches.append(current_sandwich) #Adding data with append\n",
        "\n",
        "\n",
        "print(\"\\n\")\n",
        "print('Sandwich orders served:')#Finished orders!\n",
        "for sandwich in finished_sandwiches:\n",
        "  print(sandwich,'Sandwich')"
      ]
    }
  ]
}