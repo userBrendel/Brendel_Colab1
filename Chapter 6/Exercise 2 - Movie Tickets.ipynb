{
  "nbformat": 4,
  "nbformat_minor": 0,
  "metadata": {
    "colab": {
      "provenance": []
    },
    "kernelspec": {
      "name": "python3",
      "display_name": "Python 3"
    },
    "language_info": {
      "name": "python"
    }
  },
  "cells": [
    {
      "cell_type": "code",
      "execution_count": 7,
      "metadata": {
        "colab": {
          "base_uri": "https://localhost:8080/"
        },
        "id": "_HMjjoD7qBDC",
        "outputId": "2b9cf408-c52c-49f3-81be-50fd5098b32d"
      },
      "outputs": [
        {
          "name": "stdout",
          "output_type": "stream",
          "text": [
            "How old are you?\n",
            "Enter 'quit' when you are finished. 2\n",
            "  Your ticket is free!\n",
            "How old are you?\n",
            "Enter 'quit' when you are finished. 10\n",
            "  Your ticket will cost $10.\n",
            "How old are you?\n",
            "Enter 'quit' when you are finished. 20\n",
            "  Your ticket will cost $15.\n",
            "How old are you?\n",
            "Enter 'quit' when you are finished. quit\n"
          ]
        }
      ],
      "source": [
        "#Ticket price!\n",
        "msg = \"How old are you?\" #Asking the user (by variable)\n",
        "msg += \"\\nEnter 'quit' when you are finished. \" #additional variable\n",
        "\n",
        "while True:#start of loop\n",
        "    age = input(msg) #asking user their age\n",
        "    if age == 'quit':\n",
        "        break #will end loop if quit\n",
        "    age = int(age) #stating that the input is an integer \n",
        "\n",
        "                                      #Using if-elif-else\n",
        "    if age <= 3:\n",
        "        print(\"  Your ticket is free!\")#If a person is under the age of 3 \n",
        "    elif age <= 12:\n",
        "        print(\"  Your ticket will cost $10.\") #If they are between 3 and 12 \n",
        "    else:\n",
        "        print(\"  Your ticket will cost $15.\")#if they are over age 12"
      ]
    }
  ]
}