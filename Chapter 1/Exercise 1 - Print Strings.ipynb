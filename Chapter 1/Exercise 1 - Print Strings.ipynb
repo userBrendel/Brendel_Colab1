{
  "nbformat": 4,
  "nbformat_minor": 0,
  "metadata": {
    "colab": {
      "provenance": []
    },
    "kernelspec": {
      "name": "python3",
      "display_name": "Python 3"
    },
    "language_info": {
      "name": "python"
    }
  },
  "cells": [
    {
      "cell_type": "code",
      "execution_count": null,
      "metadata": {
        "colab": {
          "base_uri": "https://localhost:8080/"
        },
        "id": "jcrDhbq4yNhk",
        "outputId": "446e4c3d-f37a-4c68-aef6-a4cd4510617f"
      },
      "outputs": [
        {
          "output_type": "stream",
          "name": "stdout",
          "text": [
            "Baa, baa, black sheep Have you any wool?\n",
            "Yes sir, yes sir, three bags full.\n",
            "One for the master,\n",
            "And one for the dame,\n",
            "And one for the little boy Who lives down the lane.\n"
          ]
        }
      ],
      "source": [
        "#exercise 1: print strings\n",
        "print('Baa, baa, black sheep Have you any wool?')\n",
        "print('Yes sir, yes sir, three bags full.')\n",
        "print('One for the master,')\n",
        "print('And one for the dame,')\n",
        "print('And one for the little boy Who lives down the lane.')"
      ]
    }
  ]
}