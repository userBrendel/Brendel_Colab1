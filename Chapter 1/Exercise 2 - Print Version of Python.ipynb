{
  "nbformat": 4,
  "nbformat_minor": 0,
  "metadata": {
    "colab": {
      "provenance": []
    },
    "kernelspec": {
      "name": "python3",
      "display_name": "Python 3"
    },
    "language_info": {
      "name": "python"
    }
  },
  "cells": [
    {
      "cell_type": "code",
      "execution_count": null,
      "metadata": {
        "colab": {
          "base_uri": "https://localhost:8080/"
        },
        "id": "dSPz1DJnyX_a",
        "outputId": "dfc124d7-5294-43a9-fc97-538b554e3d4f"
      },
      "outputs": [
        {
          "output_type": "stream",
          "name": "stdout",
          "text": [
            "Python version\n",
            "3.7.14 (default, Sep  8 2022, 00:06:44) \n",
            "[GCC 7.5.0]\n",
            "Version info\n",
            "sys.version_info(major=3, minor=7, micro=14, releaselevel='final', serial=0)\n",
            "3.7.14\n"
          ]
        }
      ],
      "source": [
        "#exercise 2: sys module to check python version\n",
        "import sys\n",
        "print(\"Python version\")\n",
        "print(sys.version)\n",
        "\n",
        "print(\"Version info\")\n",
        "print(sys.version_info)\n",
        "\n",
        "\n",
        "#platform module to check python version\n",
        "from platform import python_version\n",
        "print(python_version())"
      ]
    }
  ]
}