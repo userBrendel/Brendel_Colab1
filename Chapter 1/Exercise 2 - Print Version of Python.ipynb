{
  "nbformat": 4,
  "nbformat_minor": 0,
  "metadata": {
    "colab": {
      "provenance": []
    },
    "kernelspec": {
      "name": "python3",
      "display_name": "Python 3"
    },
    "language_info": {
      "name": "python"
    }
  },
  "cells": [
    {
      "cell_type": "code",
      "execution_count": 3,
      "metadata": {
        "colab": {
          "base_uri": "https://localhost:8080/"
        },
        "id": "sDNVQWpfNWKa",
        "outputId": "2c6f6a09-e2f2-4058-d49b-ddf7d6fa7a1c"
      },
      "outputs": [
        {
          "output_type": "stream",
          "name": "stdout",
          "text": [
            "Python version\n",
            "3.7.15 (default, Oct 12 2022, 19:14:55) \n",
            "[GCC 7.5.0]\n",
            "\n",
            "\n",
            "Version info\n",
            "sys.version_info(major=3, minor=7, micro=15, releaselevel='final', serial=0)\n",
            "\n",
            "\n",
            "3.7.15\n"
          ]
        }
      ],
      "source": [
        "#exercise 2: sys module to check python version\n",
        "import sys#first import (Information on the Python interpreter's constants, functions, and methods is available in the sys module.)\n",
        "print(\"Python version\")\n",
        "print(sys.version)#includes the version number and other information.\n",
        "\n",
        "print(\"\\n\")\n",
        "\n",
        "print(\"Version info\")\n",
        "print(sys.version_info)#composed of the major, minor, micro, releaselevel, and serial parts of the version number.\n",
        "\n",
        "print(\"\\n\")\n",
        "\n",
        "\n",
        "#platform module to check python version\n",
        "from platform import python_version #used to indicate the Python version that the program is running on.\n",
        "print(python_version())"
      ]
    }
  ]
}