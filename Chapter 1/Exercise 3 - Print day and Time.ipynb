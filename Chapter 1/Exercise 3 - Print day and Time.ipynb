{
  "nbformat": 4,
  "nbformat_minor": 0,
  "metadata": {
    "colab": {
      "provenance": []
    },
    "kernelspec": {
      "name": "python3",
      "display_name": "Python 3"
    },
    "language_info": {
      "name": "python"
    }
  },
  "cells": [
    {
      "cell_type": "code",
      "execution_count": null,
      "metadata": {
        "colab": {
          "base_uri": "https://localhost:8080/"
        },
        "id": "RCUSVIdpydJo",
        "outputId": "18a7a0b8-4a58-4b58-88e7-a12f39c16586"
      },
      "outputs": [
        {
          "output_type": "stream",
          "name": "stdout",
          "text": [
            "Today's date: 2022-10-05\n",
            "d1 = 05/10/2022\n",
            "d2 = October 05, 2022\n",
            "d3 = 10/05/22\n",
            "d4 = Oct-05-2022\n",
            "now = 2022-10-05 17:39:40.958313\n",
            "date and time = 05/10/2022 17:39:40\n"
          ]
        }
      ],
      "source": [
        "#exercise 3: today's date using python\n",
        "from datetime import date #using from and import(datetime -> date)\n",
        "\n",
        "today = date.today()\n",
        "print(\"Today's date:\", today) #printing today's date # printing today will result to date today beacause today = date.today()\n",
        "\n",
        "\n",
        "#current date in different format\n",
        "from datetime import date \n",
        "\n",
        "today = date.today()  \n",
        "              \n",
        "#below for result\n",
        "\n",
        "# dd/mm/YY                       #Date and time objects are converted to their string representation using the strftime() method.\n",
        "d1 = today.strftime(\"%d/%m/%Y\") #d1 as variable, today.strftime as string (%d to import day)(%m to import month)(%Y to import year)\n",
        "print(\"d1 =\", d1)#print for result! (d1 with no qoutation will give you the date/month/year )\n",
        "\n",
        "\n",
        "#textual form (month, day and year)\n",
        "d2 = today.strftime(\"%B %d, %Y\") #(%B for textual month)\n",
        "print(\"d2 =\", d2)\n",
        "\n",
        "# mm/dd/y\n",
        "d3 = today.strftime(\"%m/%d/%y\")\n",
        "print(\"d3 =\", d3)\n",
        "\n",
        "# Month abbreviation, day and year\t\n",
        "d4 = today.strftime(\"%b-%d-%Y\")#(%b result in month abbreviation)\n",
        "print(\"d4 =\", d4)\n",
        "\n",
        "\n",
        "                                         #current date and time\n",
        "\n",
        "from datetime import datetime #using from and import(datetime -> datetime)\n",
        "\n",
        "# datetime object with current date and time\n",
        "now = datetime.now()\n",
        " \n",
        "print(\"now =\", now) #now is equals to datetime.now().#datetime.now() will import datetime.#print 'now' will give datetime now\n",
        "\n",
        "# dd/mm/YY H:M:S\n",
        "dt_string = now.strftime(\"%d/%m/%Y %H:%M:%S\") #strftime() because we are using such(\"%d/%m/%Y %H:%M:%S\")\n",
        "print(\"date and time =\", dt_string)\n"
      ]
    }
  ]
}