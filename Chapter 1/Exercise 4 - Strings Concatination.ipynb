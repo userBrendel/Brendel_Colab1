{
  "nbformat": 4,
  "nbformat_minor": 0,
  "metadata": {
    "colab": {
      "provenance": []
    },
    "kernelspec": {
      "name": "python3",
      "display_name": "Python 3"
    },
    "language_info": {
      "name": "python"
    }
  },
  "cells": [
    {
      "cell_type": "code",
      "execution_count": null,
      "metadata": {
        "colab": {
          "base_uri": "https://localhost:8080/"
        },
        "id": "HvTedk2Q01xi",
        "outputId": "0521ad19-e94e-49b5-bdb5-78fdcf2f8639"
      },
      "outputs": [
        {
          "output_type": "stream",
          "name": "stdout",
          "text": [
            "Im Brendel Stephanie.\n",
            "I\n",
            "Im Br\n",
            "ndel Stephanie.\n",
            "Im Brendel Stephanie.Im Brendel Stephanie.Im Brendel Stephanie.\n",
            "Im so feeling.\n",
            "Im so happy\n",
            "Im Brendel Stephanie.Im so feeling.Im so happy\n"
          ]
        }
      ],
      "source": [
        "#Exercise 4:Strings Concantation\n",
        "sentence1='Im Brendel Stephanie.'\n",
        "print(sentence1)\n",
        "print (sentence1[0])\n",
        "print (sentence1[0:5])\n",
        "print (sentence1[6:])\n",
        "print (sentence1*3)\n",
        "\n",
        "sentence2=\"Im so feeling.\"\n",
        "print(sentence2)\n",
        "\n",
        "sentence3='Im so happy'\n",
        "print(sentence3)\n",
        "\n",
        "print(sentence1+sentence2+sentence3)"
      ]
    }
  ]
}