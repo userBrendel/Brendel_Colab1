{
  "nbformat": 4,
  "nbformat_minor": 0,
  "metadata": {
    "colab": {
      "provenance": []
    },
    "kernelspec": {
      "name": "python3",
      "display_name": "Python 3"
    },
    "language_info": {
      "name": "python"
    }
  },
  "cells": [
    {
      "cell_type": "code",
      "execution_count": 1,
      "metadata": {
        "colab": {
          "base_uri": "https://localhost:8080/"
        },
        "id": "6Di02dCRI8DV",
        "outputId": "8a9b1e51-5137-4c7c-ea20-92382ddfd0d3"
      },
      "outputs": [
        {
          "output_type": "stream",
          "name": "stdout",
          "text": [
            "Im Brendel Stephanie.\n",
            "I\n",
            "Im Br\n",
            "ndel Stephanie.\n",
            "Im Brendel Stephanie.Im Brendel Stephanie.Im Brendel Stephanie.\n",
            "Im so feeling.\n",
            "Im so happy\n",
            "Im Brendel Stephanie.Im so feeling.Im so happy\n"
          ]
        }
      ],
      "source": [
        "#Exercise 4:Strings Concantation\n",
        "sentence1='Im Brendel Stephanie.' #variable and strings\n",
        "print(sentence1) #printing the whole sentence1\n",
        "print (sentence1[0]) #printing the first letter of sentence1 (we start with 0)\n",
        "print (sentence1[0:5])#printing the five first letter with space of sentence1\n",
        "print (sentence1[6:])#printing the Six letter and so on!\n",
        "print (sentence1*3)#repeating sentence1 three times\n",
        "\n",
        "#new variable and string\n",
        "sentence2=\"Im so feeling.\"\n",
        "print(sentence2) #printing sentence2\n",
        "\n",
        "sentence3='Im so happy'\n",
        "print(sentence3) #printing sentence2\n",
        "\n",
        "print(sentence1+sentence2+sentence3)#adding all the strings/sentences together!"
      ]
    }
  ]
}