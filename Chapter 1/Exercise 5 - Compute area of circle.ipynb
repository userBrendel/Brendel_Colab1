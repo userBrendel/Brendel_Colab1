{
  "nbformat": 4,
  "nbformat_minor": 0,
  "metadata": {
    "colab": {
      "provenance": []
    },
    "kernelspec": {
      "name": "python3",
      "display_name": "Python 3"
    },
    "language_info": {
      "name": "python"
    }
  },
  "cells": [
    {
      "cell_type": "code",
      "execution_count": 1,
      "metadata": {
        "colab": {
          "base_uri": "https://localhost:8080/"
        },
        "id": "sDNVQWpfNWKa",
        "outputId": "96f75c81-384f-4039-8b72-bd8714b39e7f"
      },
      "outputs": [
        {
          "output_type": "stream",
          "name": "stdout",
          "text": [
            "input the radius of the circle: 7\n",
            "the area of the circle with radius7.0is:153.93804002589985\n"
          ]
        }
      ],
      "source": [
        "#Exercise 5: Compute area of Circle\n",
        "from math import pi #from math import pi will instruct python to calculate a circle math problem)\n",
        "r = float(input(\"input the radius of the circle: \")) #asking a user what's the radius of the circle\n",
        " #A number contained in a string or integer is converted into a floating point number or a number with a decimal point using the float() function.\n",
        "print(\"the area of the circle with radius\" + str(r) + \"is:\" + str(pi * r**2)) #str(r) will equals to the number that the user gave\n",
        "                                                              #str(pi* r**2) formula"
      ]
    }
  ]
}