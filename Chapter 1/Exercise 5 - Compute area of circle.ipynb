{
  "nbformat": 4,
  "nbformat_minor": 0,
  "metadata": {
    "colab": {
      "provenance": []
    },
    "kernelspec": {
      "name": "python3",
      "display_name": "Python 3"
    },
    "language_info": {
      "name": "python"
    }
  },
  "cells": [
    {
      "cell_type": "code",
      "execution_count": 1,
      "metadata": {
        "id": "EwWLkxuS1CS0",
        "colab": {
          "base_uri": "https://localhost:8080/"
        },
        "outputId": "38c66be7-a265-41b8-8e51-5949224a6a3a"
      },
      "outputs": [
        {
          "output_type": "stream",
          "name": "stdout",
          "text": [
            "input the radius of the circle: 2\n",
            "the area of the circle with radius2.0is:12.566370614359172\n"
          ]
        }
      ],
      "source": [
        "#Exercise 5: Compute area of Circle\n",
        "from math import pi\n",
        "r = float(input(\"input the radius of the circle: \"))\n",
        "print(\"the area of the circle with radius\" + str(r) + \"is:\" + str(pi * r**2))"
      ]
    }
  ]
}