{
  "nbformat": 4,
  "nbformat_minor": 0,
  "metadata": {
    "colab": {
      "provenance": []
    },
    "kernelspec": {
      "name": "python3",
      "display_name": "Python 3"
    },
    "language_info": {
      "name": "python"
    }
  },
  "cells": [
    {
      "cell_type": "code",
      "execution_count": 5,
      "metadata": {
        "colab": {
          "base_uri": "https://localhost:8080/"
        },
        "id": "tNTjcBRvVxrA",
        "outputId": "3447791c-3996-4188-8459-39ee2d3d149d"
      },
      "outputs": [
        {
          "output_type": "stream",
          "name": "stdout",
          "text": [
            "The Nile River flows through Egypt.\n",
            "The Mississippi River flows through United States.\n",
            "The Danube River flows through Russia.\n",
            "\n",
            "Rivers that is in the Dictionary:\n",
            "- Nile River\n",
            "- Mississippi River\n",
            "- Danube River\n",
            "\n",
            "Country that is in the Dictionary:\n",
            "- Egypt\n",
            "- United States\n",
            "- Russia\n"
          ]
        }
      ],
      "source": [
        "#River with it's Location in a Dictionary'{}'\n",
        "rivers = {'Nile river':'Egypt', 'Mississippi river':'United States', 'Danube river':'Russia',}\n",
        "\n",
        "for river, country in rivers.items():#printing similar statement with looping.\n",
        "    print(\"The \" + river.title() + \" flows through \" + country.title() + \".\")\n",
        "\n",
        "print(\"\\nRivers that is in the Dictionary:\")#printing all the 'keys' with looping.\n",
        "for river in rivers.keys():\n",
        "    print(\"- \" + river.title())\n",
        "\n",
        "print(\"\\nCountry that is in the Dictionary:\")#printing all the 'values' with looping.\n",
        "for country in rivers.values():\n",
        "    print(\"- \" + country.title())\n",
        "\n",
        "\n",
        "\n",
        "\n",
        " "
      ]
    }
  ]
}