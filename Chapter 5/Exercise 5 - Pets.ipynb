{
  "nbformat": 4,
  "nbformat_minor": 0,
  "metadata": {
    "colab": {
      "provenance": []
    },
    "kernelspec": {
      "name": "python3",
      "display_name": "Python 3"
    },
    "language_info": {
      "name": "python"
    }
  },
  "cells": [
    {
      "cell_type": "code",
      "execution_count": 7,
      "metadata": {
        "id": "ybI83ScWdQCd",
        "colab": {
          "base_uri": "https://localhost:8080/"
        },
        "outputId": "5e38c476-c565-4e27-c961-f5d023d780ce"
      },
      "outputs": [
        {
          "output_type": "stream",
          "name": "stdout",
          "text": [
            "\n",
            "Animal: Cat \n",
            "Pet Owner: Brendel\n",
            "\n",
            "Animal: Cat \n",
            "Pet Owner: Shane\n",
            "\n",
            "Animal: Hamster \n",
            "Pet Owner: Kyla\n",
            "\n",
            "Animal: Bird \n",
            "Pet Owner: Jacob\n",
            "\n",
            "Animal: Dog \n",
            "Pet Owner: Nicole\n"
          ]
        }
      ],
      "source": [
        "#Making several dictionaries with different details based on it's variable\n",
        "Tomtom = {'animal': 'cat', 'owner': 'Brendel'}\n",
        "Coco = {'animal': 'cat', 'owner': 'Shane'}\n",
        "Ming = {'animal': 'hamster', 'owner': 'Kyla'}\n",
        "Yin = {'animal': 'bird', 'owner': 'Jacob'}\n",
        "Athena = {'animal': 'dog', 'owner': 'Nicole'}\n",
        "\n",
        "#List of pets (To help loop with several dictionaries)\n",
        "pets = [Tomtom, Coco, Ming, Yin, Athena]\n",
        "\n",
        "\n",
        "#Looping with several dictionaries\n",
        "for pet in pets:\n",
        "    print(\"\\nAnimal:\", pet['animal'].title(), \"\\nPet Owner:\", pet['owner'].title())"
      ]
    }
  ]
}