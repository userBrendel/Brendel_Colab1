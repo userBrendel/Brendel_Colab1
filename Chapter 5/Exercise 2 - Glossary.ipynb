{
  "nbformat": 4,
  "nbformat_minor": 0,
  "metadata": {
    "colab": {
      "provenance": []
    },
    "kernelspec": {
      "name": "python3",
      "display_name": "Python 3"
    },
    "language_info": {
      "name": "python"
    }
  },
  "cells": [
    {
      "cell_type": "code",
      "execution_count": 1,
      "metadata": {
        "id": "v231PdEo8o0P",
        "colab": {
          "base_uri": "https://localhost:8080/"
        },
        "outputId": "142de071-ee1a-4b0d-94ea-ffab5415e358"
      },
      "outputs": [
        {
          "output_type": "stream",
          "name": "stdout",
          "text": [
            "\n",
            "Dictionaries: A form of data used to hold collections of items.\n",
            "\n",
            "Lists: A type of data that stores a group of values, which may be of any kind.\n",
            "\n",
            "Strings: A sequence of letters or numbers.\n",
            "\n",
            "Variables: A memory where values are kept.\n",
            "\n",
            "Input: Used to get data from user\n"
          ]
        }
      ],
      "source": [
        "#Five programming words you’ve learned about in the previous chapters.\n",
        "Glossary = {\n",
        "    'Dictionaries': 'A form of data used to hold collections of items.',\n",
        "    'Lists': 'A type of data that stores a group of values, which may be of any kind.',\n",
        "    'Strings': 'A sequence of letters or numbers.',\n",
        "    'Variables': 'A memory where values are kept.',\n",
        "    'Input': \"Used to get data from user\",\n",
        "    }\n",
        "\n",
        "word = 'Dictionaries' #for word.title()\n",
        "print(\"\\n\" + word.title() + \": \" + Glossary[word])#printing the word and it's meaning \n",
        "                                                  #'Glossary[word]' to print the info of the word stored in the dictionary\n",
        "word = 'Lists'\n",
        "print(\"\\n\" + word.title() + \": \" + Glossary[word])\n",
        "\n",
        "word = 'Strings'\n",
        "print(\"\\n\" + word.title() + \": \" + Glossary[word])\n",
        "\n",
        "word = 'Variables'\n",
        "print(\"\\n\" + word.title() + \": \" + Glossary[word])\n",
        "\n",
        "word = 'Input'\n",
        "print(\"\\n\" + word.title() + \": \" + Glossary[word])"
      ]
    }
  ]
}