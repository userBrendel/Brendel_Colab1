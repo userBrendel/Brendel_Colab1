{
  "nbformat": 4,
  "nbformat_minor": 0,
  "metadata": {
    "colab": {
      "provenance": []
    },
    "kernelspec": {
      "name": "python3",
      "display_name": "Python 3"
    },
    "language_info": {
      "name": "python"
    }
  },
  "cells": [
    {
      "cell_type": "code",
      "execution_count": 4,
      "metadata": {
        "colab": {
          "base_uri": "https://localhost:8080/"
        },
        "id": "R0W-M3Dr0iIB",
        "outputId": "092f9f7a-19fd-4943-8b36-6bc21f07f721"
      },
      "outputs": [
        {
          "output_type": "stream",
          "name": "stdout",
          "text": [
            "Brendel\n",
            "Canlas\n",
            "17\n",
            "Dubai,UAE\n"
          ]
        }
      ],
      "source": [
        "#Using a dictionary to store information about a person\n",
        "person = {\n",
        "    'First name' : 'Brendel',\n",
        "     'Last name' : 'Canlas',\n",
        "     'Age' : '17', \n",
        "     'City' : 'Dubai,UAE'}\n",
        "\n",
        "print(person['First name']) #printing the info\n",
        "print(person['Last name'])\n",
        "print(person['Age'])\n",
        "print(person['City'])"
      ]
    }
  ]
}