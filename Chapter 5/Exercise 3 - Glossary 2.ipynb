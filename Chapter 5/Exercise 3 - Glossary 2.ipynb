{
  "nbformat": 4,
  "nbformat_minor": 0,
  "metadata": {
    "colab": {
      "provenance": []
    },
    "kernelspec": {
      "name": "python3",
      "display_name": "Python 3"
    },
    "language_info": {
      "name": "python"
    }
  },
  "cells": [
    {
      "cell_type": "code",
      "execution_count": null,
      "metadata": {
        "colab": {
          "base_uri": "https://localhost:8080/"
        },
        "id": "k8buUeiyV0nG",
        "outputId": "0cb0d081-4440-47d1-80ed-9110595969c7"
      },
      "outputs": [
        {
          "output_type": "stream",
          "name": "stdout",
          "text": [
            "\n",
            "Dictionaries: A form of data used to hold collections of items.\n",
            "\n",
            "Lists: A type of data that stores a group of values, which may be of any kind.\n",
            "\n",
            "Strings: A sequence of letters or numbers.\n",
            "\n",
            "Variables: A memory where values are kept.\n",
            "\n",
            "Input: Used to get data from user\n",
            "\n",
            "Float: Translates a value held in an integer or string into a floating point value or a value with a decimal point.\n",
            "\n",
            "If: Helps a program decide based on the defined criteria.\n",
            "\n",
            "Integers: Converts a number in a given base to a decimal or returns an integer from a given object.\n",
            "\n",
            "Functions: A collection of assertions that work together to complete a single goal.\n",
            "\n",
            "Loop: Allow us to run a set of instructions repeatedly\n"
          ]
        }
      ],
      "source": [
        "#Ten programming words I've learned in the previous chapters. stored in a dictionary '{}'\n",
        "Glossary = {\n",
        "    'Dictionaries': 'A form of data used to hold collections of items.',\n",
        "    'Lists': 'A type of data that stores a group of values, which may be of any kind.',\n",
        "    'Strings': 'A sequence of letters or numbers.',\n",
        "    'Variables': 'A memory where values are kept.',\n",
        "    'Input': \"Used to get data from user\",\n",
        "    'Float': 'Translates a value held in an integer or string into a floating point value or a value with a decimal point.',\n",
        "    'If': 'Helps a program decide based on the defined criteria.',\n",
        "    'Integers': 'Converts a number in a given base to a decimal or returns an integer from a given object.',\n",
        "    'Functions': 'A collection of assertions that work together to complete a single goal.',\n",
        "    'Loop': 'Allow us to run a set of instructions repeatedly',\n",
        "    }\n",
        "\n",
        "#Looping so we don't have to print it seperately like the previous exercise.\n",
        "for word, meanings in Glossary.items(): #'for-in' to loop\n",
        "    print(\"\\n\" + word.title() + \": \" + meanings)"
      ]
    }
  ]
}