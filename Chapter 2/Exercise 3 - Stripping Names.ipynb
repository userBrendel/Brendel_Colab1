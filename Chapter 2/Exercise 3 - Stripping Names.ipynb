{
  "nbformat": 4,
  "nbformat_minor": 0,
  "metadata": {
    "colab": {
      "provenance": []
    },
    "kernelspec": {
      "name": "python3",
      "display_name": "Python 3"
    },
    "language_info": {
      "name": "python"
    }
  },
  "cells": [
    {
      "cell_type": "code",
      "source": [
        "name = \"\\tBrendel Canlas\\n\"\n",
        "\n",
        "print(\"Original:\")\n",
        "print(name)\n",
        "\n",
        "print(\"\\nUsing lstrip():\")#use of lstrip() function to remove spaces left side of the string\n",
        "new_name=name.lstrip()\n",
        "print(new_name)#result\n",
        "print(\"Original:\")\n",
        "print(name)#original\n",
        "print(\"\\n\")\n",
        "\n",
        "print(\"\\nUsing rstrip():\")#use of rstrip() function to remove spaces right side of the string\n",
        "new_name=name.rstrip()\n",
        "print(new_name)#result\n",
        "print(\"Original:\")\n",
        "print(name)#original\n",
        "print(\"\\n\")\n",
        "\n",
        "print(\"\\nUsing strip():\")#use of strip() function to remove spaces from both left and right side of the string\n",
        "new_name=name.strip()\n",
        "print(new_name)#result\n",
        "print(\"Original:\")\n",
        "print(name)#original\n",
        "print(\"\\n\")\n",
        "\n",
        "\n"
      ],
      "metadata": {
        "colab": {
          "base_uri": "https://localhost:8080/"
        },
        "id": "spI5SEaFbCi4",
        "outputId": "0e2bceb7-3adc-4a68-c772-91a9c1c255a4"
      },
      "execution_count": 3,
      "outputs": [
        {
          "output_type": "stream",
          "name": "stdout",
          "text": [
            "Original:\n",
            "\tBrendel Canlas\n",
            "\n",
            "\n",
            "Using lstrip():\n",
            "Brendel Canlas\n",
            "\n",
            "Original:\n",
            "\tBrendel Canlas\n",
            "\n",
            "\n",
            "\n",
            "\n",
            "Using rstrip():\n",
            "\tBrendel Canlas\n",
            "Original:\n",
            "\tBrendel Canlas\n",
            "\n",
            "\n",
            "\n",
            "\n",
            "Using strip():\n",
            "Brendel Canlas\n",
            "Original:\n",
            "\tBrendel Canlas\n",
            "\n",
            "\n",
            "\n"
          ]
        }
      ]
    }
  ]
}