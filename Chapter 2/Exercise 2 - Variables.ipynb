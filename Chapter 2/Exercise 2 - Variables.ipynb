{
  "nbformat": 4,
  "nbformat_minor": 0,
  "metadata": {
    "colab": {
      "provenance": []
    },
    "kernelspec": {
      "name": "python3",
      "display_name": "Python 3"
    },
    "language_info": {
      "name": "python"
    }
  },
  "cells": [
    {
      "cell_type": "code",
      "execution_count": null,
      "metadata": {
        "id": "ZPVSPBPpA0cc"
      },
      "outputs": [],
      "source": [
        "print('Dalai Lama once said, \"The purpose of our life is to be happy\"') #to have a qoutation on your strings use the combination of\n",
        "                                                                         #single and double qoutation"
      ]
    }
  ]
}