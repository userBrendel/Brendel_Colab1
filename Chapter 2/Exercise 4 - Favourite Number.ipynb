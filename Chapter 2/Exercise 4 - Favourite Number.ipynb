{
  "nbformat": 4,
  "nbformat_minor": 0,
  "metadata": {
    "colab": {
      "provenance": []
    },
    "kernelspec": {
      "name": "python3",
      "display_name": "Python 3"
    },
    "language_info": {
      "name": "python"
    }
  },
  "cells": [
    {
      "cell_type": "code",
      "execution_count": 9,
      "metadata": {
        "colab": {
          "base_uri": "https://localhost:8080/"
        },
        "id": "_HMl_mrj_179",
        "outputId": "7bde2c2b-72dc-435e-f695-5446f3f1fa11"
      },
      "outputs": [
        {
          "output_type": "stream",
          "name": "stdout",
          "text": [
            "My favorite number is 18.\n"
          ]
        }
      ],
      "source": [
        "Fav_number = 18 #Using a variable to represent my favorite number.\n",
        "msg = f\"My favorite number is {Fav_number}.\" #using a variable,to create a message that reveals my favorite number. \n",
        "\n",
        "print(msg)#printing the message"
      ]
    }
  ]
}