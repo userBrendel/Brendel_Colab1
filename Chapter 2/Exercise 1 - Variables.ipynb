{
  "nbformat": 4,
  "nbformat_minor": 0,
  "metadata": {
    "colab": {
      "provenance": []
    },
    "kernelspec": {
      "name": "python3",
      "display_name": "Python 3"
    },
    "language_info": {
      "name": "python"
    }
  },
  "cells": [
    {
      "cell_type": "code",
      "execution_count": null,
      "metadata": {
        "id": "tlM1YDLEv6h4",
        "colab": {
          "base_uri": "https://localhost:8080/"
        },
        "outputId": "9664af46-735f-4577-a401-51eea1abe163"
      },
      "outputs": [
        {
          "output_type": "stream",
          "name": "stdout",
          "text": [
            "Please enter the side of a square:\n",
            "7\n",
            "side of the square 7\n",
            "the area of a square with side 7 units= 49 sq units\n"
          ]
        }
      ],
      "source": [
        "#input for function to work with defined variable\n",
        "print(\"Please enter the side of a square:\")\n",
        "side=int(input())\n",
        "print('side of the square',side)\n",
        "print('the area of a square with side '+str(side) +' units= '+ str(side**2)+ ' sq units')"
      ]
    },
    {
      "cell_type": "code",
      "source": [
        "PI=3.142\n",
        "print(\"Please enter the radius of a circle:\")\n",
        "r=int(input())\n",
        "print('the area of the circle with radius '+str(r)+' units=: '+str(PI*r**2)+' sq units')"
      ],
      "metadata": {
        "colab": {
          "base_uri": "https://localhost:8080/"
        },
        "id": "10RJ-FSU41L3",
        "outputId": "37300f8d-fc2d-496c-d354-85bf85606fae"
      },
      "execution_count": null,
      "outputs": [
        {
          "output_type": "stream",
          "name": "stdout",
          "text": [
            "Please enter the radius of a circle:\n",
            "9\n",
            "the area of the circle with radius 9 units=: 254.50199999999998 sq units\n"
          ]
        }
      ]
    }
  ]
}