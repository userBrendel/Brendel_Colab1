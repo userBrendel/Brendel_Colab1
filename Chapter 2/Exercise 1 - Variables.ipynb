{
  "nbformat": 4,
  "nbformat_minor": 0,
  "metadata": {
    "colab": {
      "provenance": []
    },
    "kernelspec": {
      "name": "python3",
      "display_name": "Python 3"
    },
    "language_info": {
      "name": "python"
    }
  },
  "cells": [
    {
      "cell_type": "code",
      "execution_count": 2,
      "metadata": {
        "colab": {
          "base_uri": "https://localhost:8080/"
        },
        "id": "PEZ8-7AAXtdE",
        "outputId": "bc40d259-f85b-4aca-a00c-7e9eaf2bfda0"
      },
      "outputs": [
        {
          "output_type": "stream",
          "name": "stdout",
          "text": [
            "I love you\n",
            "I love you too\n"
          ]
        }
      ],
      "source": [
        "#Assigning a message to a variable, and printing that message.\n",
        "msg=\"I love you\"\n",
        "print(msg)\n",
        "#New msg\n",
        "msg=\"I love you too\"\n",
        "print(msg)"
      ]
    }
  ]
}