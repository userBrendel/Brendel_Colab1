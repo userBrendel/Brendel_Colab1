{
  "nbformat": 4,
  "nbformat_minor": 0,
  "metadata": {
    "colab": {
      "provenance": []
    },
    "kernelspec": {
      "name": "python3",
      "display_name": "Python 3"
    },
    "language_info": {
      "name": "python"
    }
  },
  "cells": [
    {
      "cell_type": "code",
      "execution_count": null,
      "metadata": {
        "id": "tlM1YDLEv6h4"
      },
      "outputs": [],
      "source": [
        "#input for function to work with defined variable\n",
        "print(\"Please enter the side of a square:\")\n",
        "side=int(input())\n",
        "print('side of the square',side)\n",
        "print('the area of a square with side '+str(side) +' units= '+ str(side**2)+ ' sq units')"
      ]
    },
    {
      "cell_type": "code",
      "source": [
        "PI=3.142\n",
        "print(\"Please enter the radius of a circle:\")\n",
        "r=int(input())\n",
        "print('the area of the circle with radius '+str(r)+' units=: '+str(PI*r**2)+' sq units')"
      ],
      "metadata": {
        "id": "10RJ-FSU41L3"
      },
      "execution_count": null,
      "outputs": []
    }
  ]
}