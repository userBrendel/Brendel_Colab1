{
  "nbformat": 4,
  "nbformat_minor": 0,
  "metadata": {
    "colab": {
      "provenance": []
    },
    "kernelspec": {
      "name": "python3",
      "display_name": "Python 3"
    },
    "language_info": {
      "name": "python"
    }
  },
  "cells": [
    {
      "cell_type": "code",
      "execution_count": null,
      "metadata": {
        "id": "tlM1YDLEv6h4"
      },
      "outputs": [],
      "source": [
        "#input for function to work with defined variable\n",
        "print(\"Please enter the side of a square:\")\n",
        "side=int(input())\n",
        "print('side of the square',side)\n",
        "print('the area of a square with side '+str(side) +' units= '+ str(side**2)+ ' sq units')"
      ]
    }
  ]
}