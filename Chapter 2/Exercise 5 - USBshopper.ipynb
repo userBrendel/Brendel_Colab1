{
  "nbformat": 4,
  "nbformat_minor": 0,
  "metadata": {
    "colab": {
      "provenance": []
    },
    "kernelspec": {
      "name": "python3",
      "display_name": "Python 3"
    },
    "language_info": {
      "name": "python"
    }
  },
  "cells": [
    {
      "cell_type": "code",
      "execution_count": 1,
      "metadata": {
        "id": "_57vDiup5tlx",
        "outputId": "d8803f76-d970-4d9b-8f69-f3cb484e8844",
        "colab": {
          "base_uri": "https://localhost:8080/"
        }
      },
      "outputs": [
        {
          "output_type": "stream",
          "name": "stdout",
          "text": [
            "A girl heads to a computer shop to buy USB\n",
            "Girl:How much for the USB?\n",
            "storekeeper:£6\n",
            "Girl:Would i please get £50 of this USB?.\n",
            "storekeeper:Sure!\n",
            "transaction: \n",
            "The storekeeper gives the girl 8 USBs and returns her 2£\n",
            "The storekeeper gives the girl 8 USBs and returns her 2£\n"
          ]
        }
      ],
      "source": [
        "print('A girl heads to a computer shop to buy USB\\nGirl:How much for the USB?\\nstorekeeper:£6\\nGirl:Would i please get £50 of this USB?.\\nstorekeeper:Sure!\\ntransaction: ')\n",
        "No_of_USB=50//6\n",
        "Money_back=50%6\n",
        "\n",
        "print('The storekeeper gives the girl '+str(No_of_USB)+' USBs'+' and returns her '+str(Money_back)+'£')\n",
        "print('The storekeeper gives the girl '+str(50//6)+' USBs'+' and returns her '+str(50%6)+'£')"
      ]
    }
  ]
}