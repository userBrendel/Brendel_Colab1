{
  "nbformat": 4,
  "nbformat_minor": 0,
  "metadata": {
    "colab": {
      "provenance": []
    },
    "kernelspec": {
      "name": "python3",
      "display_name": "Python 3"
    },
    "language_info": {
      "name": "python"
    }
  },
  "cells": [
    {
      "cell_type": "code",
      "execution_count": null,
      "metadata": {
        "colab": {
          "base_uri": "https://localhost:8080/"
        },
        "id": "QGkIFshJ8J6Q",
        "outputId": "9e11b3fe-67c2-45e6-92e3-b5e9516220ce"
      },
      "outputs": [
        {
          "output_type": "stream",
          "name": "stdout",
          "text": [
            "   Brendel\n",
            "Brendel\n"
          ]
        }
      ],
      "source": [
        "#use of lstrip() function to remove spaces left side of the string\n",
        "name='   Brendel'\n",
        "new_name=name.lstrip()\n",
        "print(name)\n",
        "print(new_name)"
      ]
    },
    {
      "cell_type": "code",
      "source": [
        "#use of rstrip() function to remove spaces right side of the string\n",
        "name='Brendel   '\n",
        "new_name=name.rstrip()\n",
        "print(name)\n",
        "print(new_name)"
      ],
      "metadata": {
        "colab": {
          "base_uri": "https://localhost:8080/"
        },
        "id": "U3LYt5_582I8",
        "outputId": "00cf8882-a4e8-4261-f57c-1f5ccea94b41"
      },
      "execution_count": null,
      "outputs": [
        {
          "output_type": "stream",
          "name": "stdout",
          "text": [
            "Brendel   \n",
            "Brendel\n"
          ]
        }
      ]
    },
    {
      "cell_type": "code",
      "source": [
        "#use of strip() function to remove spaces from both left and right side of the string\n",
        "name='    Brendel   '\n",
        "new_name=name.strip()\n",
        "print(name)\n",
        "print(new_name)"
      ],
      "metadata": {
        "colab": {
          "base_uri": "https://localhost:8080/"
        },
        "id": "0dvM0ptB--44",
        "outputId": "a612bb3f-e1ac-4438-a89a-cc8e93843121"
      },
      "execution_count": null,
      "outputs": [
        {
          "output_type": "stream",
          "name": "stdout",
          "text": [
            "    Brendel   \n",
            "Brendel\n"
          ]
        }
      ]
    },
    {
      "cell_type": "code",
      "source": [
        "#The use \\n and \\t\n",
        "print(\" Brendel Stephanie \\t Canlas\")\n",
        "print(\"\\n\")\n",
        "#\\n\n",
        "print(\"Brendel Stephanie:\\nFlores\\nCanlas\")\n",
        "\n",
        "print(\"\\n\")\n",
        "#t\n",
        "print(\"Brendel Stephanie:\\tFlores\\tCanlas\")\n"
      ],
      "metadata": {
        "colab": {
          "base_uri": "https://localhost:8080/"
        },
        "id": "C5WwezcU_sYg",
        "outputId": "60467dad-40b5-4df6-bc8d-4968fb3578e4"
      },
      "execution_count": null,
      "outputs": [
        {
          "output_type": "stream",
          "name": "stdout",
          "text": [
            " Brendel Stephanie \t Canlas\n",
            "\n",
            "\n",
            "Brendel Stephanie:\n",
            "Flores\n",
            "Canlas\n",
            "\n",
            "\n",
            "Brendel Stephanie:\tFlores\tCanlas\n"
          ]
        }
      ]
    }
  ]
}