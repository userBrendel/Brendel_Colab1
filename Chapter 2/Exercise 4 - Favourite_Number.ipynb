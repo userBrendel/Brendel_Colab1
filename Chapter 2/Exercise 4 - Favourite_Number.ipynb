{
  "nbformat": 4,
  "nbformat_minor": 0,
  "metadata": {
    "colab": {
      "provenance": []
    },
    "kernelspec": {
      "name": "python3",
      "display_name": "Python 3"
    },
    "language_info": {
      "name": "python"
    }
  },
  "cells": [
    {
      "cell_type": "code",
      "execution_count": null,
      "metadata": {
        "colab": {
          "base_uri": "https://localhost:8080/"
        },
        "id": "_HMl_mrj_179",
        "outputId": "a5477a6f-2087-4e39-a40b-0fa46ce48504"
      },
      "outputs": [
        {
          "output_type": "stream",
          "name": "stdout",
          "text": [
            "Enter 2 numbers: \n",
            "13\n",
            "7\n",
            "The addition of 13 and 7 is 20\n",
            "The subtraction of 13 and 7 is 6\n",
            "The multiplication of 13 and 7 is 91\n",
            "The division of 13 and 7 is 1.8571428571428572\n",
            "The modules of 13 and 7 is 6\n",
            "The power of 13 and 7 is 62748517\n"
          ]
        }
      ],
      "source": [
        "\n",
        "print('Enter 2 numbers: ')\n",
        "x=int(input())\n",
        "y=int (input())\n",
        "\n",
        "print('The addition of '+str(x)+' and '+str(y)+' is '+str(x+y))\n",
        "print('The subtraction of '+str(x)+' and '+str(y)+ ' is '+str(x-y))\n",
        "print('The multiplication of '+str(x)+' and '+str(y)+' is '+str(x*y))\n",
        "print('The division of '+str(x)+' and '+str(y)+' is '+str(x/y))\n",
        "print('The modules of '+str(x)+' and '+str(y)+' is '+str(x%y))\n",
        "print('The power of '+str(x)+' and '+str(y)+' is '+str(x**y))"
      ]
    }
  ]
}