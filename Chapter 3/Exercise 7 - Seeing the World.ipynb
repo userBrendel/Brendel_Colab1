{
  "nbformat": 4,
  "nbformat_minor": 0,
  "metadata": {
    "colab": {
      "provenance": []
    },
    "kernelspec": {
      "name": "python3",
      "display_name": "Python 3"
    },
    "language_info": {
      "name": "python"
    }
  },
  "cells": [
    {
      "cell_type": "code",
      "execution_count": 23,
      "metadata": {
        "colab": {
          "base_uri": "https://localhost:8080/"
        },
        "id": "RsEaCRrQJj12",
        "outputId": "dfde199c-3c6d-4b2d-bb8b-de78723e29f4"
      },
      "outputs": [
        {
          "output_type": "stream",
          "name": "stdout",
          "text": [
            "['Japan', 'Italy', 'Greece', 'United States', 'France']\n",
            "\n",
            "Using sorted() to print my list in alphabetical order without modifying the actual list:\n",
            "['Japan', 'Italy', 'Greece', 'United States', 'France']\n",
            "['France', 'Greece', 'Italy', 'Japan', 'United States']\n",
            "\n",
            "Using sorted() to print my list in reverse alphabetical order without changing the order of the original list:\n",
            "['Japan', 'Italy', 'Greece', 'United States', 'France']\n",
            "['France', 'Greece', 'Italy', 'Japan', 'United States']\n",
            "['United States', 'Japan', 'Italy', 'Greece', 'France']\n",
            "\n",
            "Using reverse() to change the order of my list:\n",
            "['France', 'United States', 'Greece', 'Italy', 'Japan']\n",
            "\n",
            "Using reverse() to change the order of my list again:\n",
            "['Japan', 'Italy', 'Greece', 'United States', 'France']\n",
            "\n",
            "Using sort() to change my list so it’s stored in alphabetical order:\n",
            "['France', 'Greece', 'Italy', 'Japan', 'United States']\n",
            "\n",
            "Using sort() to change my list so it’s stored in reverse alphabetical order:\n",
            "['United States', 'Japan', 'Italy', 'Greece', 'France']\n"
          ]
        }
      ],
      "source": [
        "Places = ['Japan','Italy','Greece','United States','France',]#Places I want to visit in a list\n",
        "print(Places)\n",
        "\n",
        "#Using \"sorted()\" to print my list in alphabetical order without modifying the actual list.\n",
        "print(\"\\nUsing sorted() to print my list in alphabetical order without modifying the actual list:\")\n",
        "print(Places)#Will still give you the original\n",
        "sorted(Places)\n",
        "print(sorted(Places)) #Alphabetical order(updated)\n",
        "\n",
        "#Using \"sorted()\" to print my list in reverse alphabetical order without changing the order of the original list.\n",
        "print(\"\\nUsing sorted() to print my list in reverse alphabetical order without changing the order of the original list:\")\n",
        "print(Places)#Will still give you the original\n",
        "print(sorted(Places))#Alphabetical order\n",
        "print(sorted(Places, reverse=True))#Reverse alphabetical order(updated)\n",
        "\n",
        "#Using \"reverse()\" to change the order of my list.\n",
        "Places.reverse()\n",
        "print(\"\\nUsing reverse() to change the order of my list:\")\n",
        "print(Places) \n",
        "\n",
        "#Using reverse() to change the order of my list again.\n",
        "Places.reverse()\n",
        "print(\"\\nUsing reverse() to change the order of my list again:\")\n",
        "print(Places) # back original list\n",
        "\n",
        "#Using sort() to change my list so it’s stored in alphabetical order.\n",
        "Places.sort()\n",
        "print(\"\\nUsing sort() to change my list so it’s stored in alphabetical order:\")\n",
        "print(Places)#updated\n",
        "\n",
        "#Using sort() to change my list so it’s stored in reverse alphabetical order.\n",
        "Places.sort(reverse=True)\n",
        "print(\"\\nUsing sort() to change my list so it’s stored in reverse alphabetical order:\")\n",
        "print(Places)#updated\n",
        "\n",
        "\n",
        "\n"
      ]
    }
  ]
}