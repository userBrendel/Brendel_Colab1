{
  "nbformat": 4,
  "nbformat_minor": 0,
  "metadata": {
    "colab": {
      "provenance": []
    },
    "kernelspec": {
      "name": "python3",
      "display_name": "Python 3"
    },
    "language_info": {
      "name": "python"
    }
  },
  "cells": [
    {
      "cell_type": "code",
      "source": [
        "#Exercise 6: new dinner table won’t arrive in time for the dinner, and you have space for only two guests.\n",
        "print(\"I can only invite two people since the new dinner table won't arrive in time\")\n",
        "\n",
        "#Using \"pop()\" to remove a guest from my list\n",
        "names = ['Victor', 'Bayla', 'Sarah',]\n",
        "popped=names.pop()\n",
        "print(\"New list:\")\n",
        "print(names)\n",
        "\n",
        "#Letting sarah know that i can't invite her to dinner.\n",
        "print(\"\\n\")\n",
        "print(\"Dear, Sarah\" )\n",
        "print(\"I apologize. I won't be able to invite you to dinner due to some conflict.\")\n",
        "print(\"\\nYours truly,\\nBrendel\")\n",
        "\n",
        "#letter for those who are still invited\n",
        "print(\"\\n\")\n",
        "print(\"Letter for those who are still invited: \")\n",
        "print(\"\\nDear, \"+names[0].title() + \" \\nYou are still welcome to join me for dinner! Hope to have a great time with you.\")\n",
        "print(\"\\nYours truly,\\nBrendel\")\n",
        "\n",
        "print(\"\\n\")\n",
        "print(\"Dear, \"+names[1].title() + \" \\nYou are still welcome to join me for dinner! Hope to have a great time with you.\")\n",
        "print(\"\\nYours truly,\\nBrendel\")\n",
        "\n",
        "#using \"del to remove the last two names from my list\"\n",
        "del names [0:2]\n",
        "print(names)#there won't be anything in the list.\n",
        "\n",
        "\n",
        "\n",
        "\n"
      ],
      "metadata": {
        "colab": {
          "base_uri": "https://localhost:8080/"
        },
        "id": "RGo0zC5CAV6E",
        "outputId": "22175e3c-d31d-4dfd-e9a1-c97d62b547dc"
      },
      "execution_count": 15,
      "outputs": [
        {
          "output_type": "stream",
          "name": "stdout",
          "text": [
            "I can only invite two people since the new dinner table won't arrive in time\n",
            "New list:\n",
            "['Victor', 'Bayla']\n",
            "\n",
            "\n",
            "Dear, Sarah\n",
            "I apologize. I won't be able to invite you to dinner due to some conflict.\n",
            "\n",
            "Yours truly,\n",
            "Brendel\n",
            "\n",
            "\n",
            "Letter for those who are still invited: \n",
            "\n",
            "Dear, Victor \n",
            "You are still welcome to join me for dinner! Hope to have a great time with you.\n",
            "\n",
            "Yours truly,\n",
            "Brendel\n",
            "\n",
            "\n",
            "Dear, Bayla \n",
            "You are still welcome to join me for dinner! Hope to have a great time with you.\n",
            "\n",
            "Yours truly,\n",
            "Brendel\n",
            "[]\n"
          ]
        }
      ]
    }
  ]
}