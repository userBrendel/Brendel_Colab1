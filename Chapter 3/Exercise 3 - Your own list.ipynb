{
  "nbformat": 4,
  "nbformat_minor": 0,
  "metadata": {
    "colab": {
      "provenance": []
    },
    "kernelspec": {
      "name": "python3",
      "display_name": "Python 3"
    },
    "language_info": {
      "name": "python"
    }
  },
  "cells": [
    {
      "cell_type": "code",
      "execution_count": 1,
      "metadata": {
        "colab": {
          "base_uri": "https://localhost:8080/"
        },
        "id": "yfEsa0l4Mlij",
        "outputId": "90ed6429-e70a-4892-d018-218d34c34240"
      },
      "outputs": [
        {
          "output_type": "stream",
          "name": "stdout",
          "text": [
            "I would like to sell a Honda car\n",
            "I would like to drive a Toyota car\n",
            "I would like to buy a Ford car\n"
          ]
        }
      ],
      "source": [
        "names = ['Honda', 'Toyota', 'Ford',]\n",
        "print(\"I would like to sell a \"+names[0].title() + \" car\")\n",
        "print(\"I would like to drive a \"+names[1].title() + \" car\")\n",
        "print(\"I would like to buy a \"+names[2].title() + \" car\")"
      ]
    }
  ]
}