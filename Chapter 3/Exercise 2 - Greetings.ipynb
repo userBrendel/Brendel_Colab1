{
  "nbformat": 4,
  "nbformat_minor": 0,
  "metadata": {
    "colab": {
      "provenance": []
    },
    "kernelspec": {
      "name": "python3",
      "display_name": "Python 3"
    },
    "language_info": {
      "name": "python"
    }
  },
  "cells": [
    {
      "cell_type": "code",
      "execution_count": null,
      "metadata": {
        "colab": {
          "base_uri": "https://localhost:8080/"
        },
        "id": "HEmLe3SSLWbv",
        "outputId": "110b8230-32c4-4bc7-f9ef-710a001824a7"
      },
      "outputs": [
        {
          "output_type": "stream",
          "name": "stdout",
          "text": [
            "Hello, goodmorning Raven!\n",
            "Hello, goodmorning Godwin!\n",
            "Hello, goodmorning Ian!\n"
          ]
        }
      ],
      "source": [
        "#list\n",
        "names = ['Raven', 'Godwin', 'Ian',]\n",
        "#printing the strings in the list and making a sentence out of it\n",
        "print(\"Hello, goodmorning \"+names[0].title() + \"!\")\n",
        "print(\"Hello, goodmorning \"+ names[1].title() + \"!\")\n",
        "print(\"Hello, goodmorning \"+ names[2].title() + \"!\")"
      ]
    }
  ]
}