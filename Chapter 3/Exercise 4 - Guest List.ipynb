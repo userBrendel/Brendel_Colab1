{
  "nbformat": 4,
  "nbformat_minor": 0,
  "metadata": {
    "colab": {
      "provenance": []
    },
    "kernelspec": {
      "name": "python3",
      "display_name": "Python 3"
    },
    "language_info": {
      "name": "python"
    }
  },
  "cells": [
    {
      "cell_type": "code",
      "execution_count": 1,
      "metadata": {
        "colab": {
          "base_uri": "https://localhost:8080/"
        },
        "id": "jRnpbmnPNySf",
        "outputId": "23802b71-46a3-4b1e-e4aa-0a4935984977"
      },
      "outputs": [
        {
          "output_type": "stream",
          "name": "stdout",
          "text": [
            "Dear, Victor \n",
            "I would like to invite you to have a dinner with me! I hope you can come! Your presence will be appreciated!\n",
            "\n",
            "Yours truly,\n",
            "Brendel\n",
            "\n",
            "\n",
            "Dear, Bayla \n",
            "I would like to invite you to have a dinner with me! I hope you can come! Your presence will be appreciated!\n",
            "\n",
            "Yours truly,\n",
            "Brendel\n",
            "\n",
            "\n",
            "Dear, Sarah \n",
            "I would like to invite you to have a dinner with me! I hope you can come! Your presence will be appreciated!\n",
            "\n",
            "Yours truly,\n",
            "Brendel\n"
          ]
        }
      ],
      "source": [
        "#names of invited people in a list\n",
        "names = ['Victor', 'bayla', 'Sarah',]\n",
        "          #names[0] #names[1] #names[2]\n",
        "\n",
        "#[0] inviting Victor\n",
        "print(\"Dear, \"+names[0]+ \" \\nI would like to invite you to have a dinner with me! I hope you can come! Your presence will be appreciated!\")\n",
        "print(\"\\nYours truly,\\nBrendel\")\n",
        "\n",
        "#[1] inviting bayla and using .title to capitalized the first letter of her name\n",
        "print(\"\\n\")\n",
        "print(\"Dear, \"+names[1].title() + \" \\nI would like to invite you to have a dinner with me! I hope you can come! Your presence will be appreciated!\")\n",
        "print(\"\\nYours truly,\\nBrendel\")\n",
        "\n",
        "#[2] inviting Sarah\n",
        "print(\"\\n\")\n",
        "print(\"Dear, \"+names[2]+ \" \\nI would like to invite you to have a dinner with me! I hope you can come! Your presence will be appreciated!\")\n",
        "print(\"\\nYours truly,\\nBrendel\")"
      ]
    }
  ]
}