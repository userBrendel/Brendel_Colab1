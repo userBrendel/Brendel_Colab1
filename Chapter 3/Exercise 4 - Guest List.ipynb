{
  "nbformat": 4,
  "nbformat_minor": 0,
  "metadata": {
    "colab": {
      "provenance": []
    },
    "kernelspec": {
      "name": "python3",
      "display_name": "Python 3"
    },
    "language_info": {
      "name": "python"
    }
  },
  "cells": [
    {
      "cell_type": "code",
      "execution_count": 13,
      "metadata": {
        "colab": {
          "base_uri": "https://localhost:8080/"
        },
        "id": "jRnpbmnPNySf",
        "outputId": "be204193-b1b3-4c97-eef2-73549a7c96be"
      },
      "outputs": [
        {
          "output_type": "stream",
          "name": "stdout",
          "text": [
            "Dear, Victor \n",
            "I would like to invite you to have a dinner with me! I hope you can come! Your presence will be appreciated!\n",
            "\n",
            "Yours truly,\n",
            "Brendel\n",
            "\n",
            "\n",
            "Dear, Bayla \n",
            "I would like to invite you to have a dinner with me! I hope you can come! Your presence will be appreciated!\n",
            "\n",
            "Yours truly,\n",
            "Brendel\n",
            "\n",
            "\n",
            "Dear, Sarah \n",
            "I would like to invite you to have a dinner with me! I hope you can come! Your presence will be appreciated!\n",
            "\n",
            "Yours truly,\n",
            "Brendel\n"
          ]
        }
      ],
      "source": [
        "names = ['Victor', 'Bayla', 'Sarah',]\n",
        "#0\n",
        "print(\"Dear, \"+names[0].title() + \" \\nI would like to invite you to have a dinner with me! I hope you can come! Your presence will be appreciated!\")\n",
        "print(\"\\nYours truly,\\nBrendel\")\n",
        "#1\n",
        "print(\"\\n\")\n",
        "print(\"Dear, \"+names[1].title() + \" \\nI would like to invite you to have a dinner with me! I hope you can come! Your presence will be appreciated!\")\n",
        "print(\"\\nYours truly,\\nBrendel\")\n",
        "#2\n",
        "print(\"\\n\")\n",
        "print(\"Dear, \"+names[2].title() + \" \\nI would like to invite you to have a dinner with me! I hope you can come! Your presence will be appreciated!\")\n",
        "print(\"\\nYours truly,\\nBrendel\")"
      ]
    }
  ]
}