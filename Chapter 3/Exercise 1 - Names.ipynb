{
  "nbformat": 4,
  "nbformat_minor": 0,
  "metadata": {
    "colab": {
      "provenance": []
    },
    "kernelspec": {
      "name": "python3",
      "display_name": "Python 3"
    },
    "language_info": {
      "name": "python"
    }
  },
  "cells": [
    {
      "cell_type": "code",
      "execution_count": null,
      "metadata": {
        "colab": {
          "base_uri": "https://localhost:8080/"
        },
        "id": "DDFOLGEmJ44m",
        "outputId": "7a50f421-177f-4b04-df16-48bb877687c2"
      },
      "outputs": [
        {
          "output_type": "stream",
          "name": "stdout",
          "text": [
            "Raven\n",
            "Godwin\n",
            "Ian\n"
          ]
        }
      ],
      "source": [
        "names = ['Raven', 'Godwin','Ian',] #making a list of names\n",
        "#printing the name in the list seperately\n",
        "print(names[0].title()) #Printing the first name on the list(we always start with 0)(.title()- makes the first letter of the word capital)\n",
        "print(names[1].title())#print 2nd names !\n",
        "print(names[2].title())# print 3rd names!"
      ]
    }
  ]
}