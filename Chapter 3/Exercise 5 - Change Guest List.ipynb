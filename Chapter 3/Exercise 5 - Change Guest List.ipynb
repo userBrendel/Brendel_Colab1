{
  "nbformat": 4,
  "nbformat_minor": 0,
  "metadata": {
    "colab": {
      "provenance": []
    },
    "kernelspec": {
      "name": "python3",
      "display_name": "Python 3"
    },
    "language_info": {
      "name": "python"
    }
  },
  "cells": [
    {
      "cell_type": "code",
      "source": [
        "#Guest list from exercise 4\n",
        "names = ['Victor', 'Bayla', 'Sarah',]\n",
        "#0\n",
        "print(\"Dear, \"+names[0].title() + \" \\nI would like to invite you to have a dinner with me! I hope you can come! Your presence will be appreciated!\")\n",
        "print(\"\\nYours truly,\\nBrendel\")\n",
        "#1\n",
        "print(\"\\n\")\n",
        "print(\"Dear, \"+names[1].title() + \" \\nI would like to invite you to have a dinner with me! I hope you can come! Your presence will be appreciated!\")\n",
        "print(\"\\nYours truly,\\nBrendel\")\n",
        "#2\n",
        "print(\"\\n\")\n",
        "print(\"Dear, \"+names[2].title() + \" \\nI would like to invite you to have a dinner with me! I hope you can come! Your presence will be appreciated!\")\n",
        "print(\"\\nYours truly,\\nBrendel\")\n",
        "\n",
        "#Exercise 5: Someone can't make it!\n",
        "print('\\n')\n",
        "print(\"\\nBayla and Sarah can't make it to dinner.\")\n",
        "print(\"second set of invitation for those who can come:\")\n",
        "\n",
        "#Replacing an element in your list is shown below\n",
        "names = ['Victor', 'Bayla', 'Sarah',]\n",
        "names[1]='John'\n",
        "names[2]='Jacob'\n",
        "\n",
        "print(\"\\nDear, \"+names[0].title() + \" \\nI would like to invite you to have a dinner with me! I hope you can come! Your presence will be appreciated!\")\n",
        "print(\"\\nYours truly,\\nBrendel\")\n",
        "\n",
        "print(\"\\n\")\n",
        "print(\"Dear, \"+names[1].title() + \" \\nI would like to invite you to have a dinner with me! I hope you can come! Your presence will be appreciated!\")\n",
        "print(\"\\nYours truly,\\nBrendel\")\n",
        "\n",
        "print(\"\\n\")\n",
        "print(\"Dear, \"+names[2].title() + \" \\nI would like to invite you to have a dinner with me! I hope you can come! Your presence will be appreciated!\")\n",
        "print(\"\\nYours truly,\\nBrendel\")"
      ],
      "metadata": {
        "colab": {
          "base_uri": "https://localhost:8080/"
        },
        "id": "ySv75ArPqqbv",
        "outputId": "5c4be5cd-4a26-4d0f-b8af-8424c387b548"
      },
      "execution_count": 7,
      "outputs": [
        {
          "output_type": "stream",
          "name": "stdout",
          "text": [
            "Dear, Victor \n",
            "I would like to invite you to have a dinner with me! I hope you can come! Your presence will be appreciated!\n",
            "\n",
            "Yours truly,\n",
            "Brendel\n",
            "\n",
            "\n",
            "Dear, Bayla \n",
            "I would like to invite you to have a dinner with me! I hope you can come! Your presence will be appreciated!\n",
            "\n",
            "Yours truly,\n",
            "Brendel\n",
            "\n",
            "\n",
            "Dear, Sarah \n",
            "I would like to invite you to have a dinner with me! I hope you can come! Your presence will be appreciated!\n",
            "\n",
            "Yours truly,\n",
            "Brendel\n",
            "\n",
            "\n",
            "\n",
            "Bayla and Sarah can't make it to dinner.\n",
            "second set of invitation for those who can come:\n",
            "\n",
            "Dear, Victor \n",
            "I would like to invite you to have a dinner with me! I hope you can come! Your presence will be appreciated!\n",
            "\n",
            "Yours truly,\n",
            "Brendel\n",
            "\n",
            "\n",
            "Dear, John \n",
            "I would like to invite you to have a dinner with me! I hope you can come! Your presence will be appreciated!\n",
            "\n",
            "Yours truly,\n",
            "Brendel\n",
            "\n",
            "\n",
            "Dear, Jacob \n",
            "I would like to invite you to have a dinner with me! I hope you can come! Your presence will be appreciated!\n",
            "\n",
            "Yours truly,\n",
            "Brendel\n"
          ]
        }
      ]
    }
  ]
}