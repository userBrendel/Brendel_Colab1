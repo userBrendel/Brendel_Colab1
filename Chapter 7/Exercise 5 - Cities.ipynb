{
  "nbformat": 4,
  "nbformat_minor": 0,
  "metadata": {
    "colab": {
      "provenance": []
    },
    "kernelspec": {
      "name": "python3",
      "display_name": "Python 3"
    },
    "language_info": {
      "name": "python"
    }
  },
  "cells": [
    {
      "cell_type": "code",
      "execution_count": 3,
      "metadata": {
        "colab": {
          "base_uri": "https://localhost:8080/"
        },
        "id": "3_AU6uSPBJar",
        "outputId": "4bb3a0bc-39d7-4a85-b3b6-b656827a94f8"
      },
      "outputs": [
        {
          "output_type": "stream",
          "name": "stdout",
          "text": [
            "Salvador is a city in Brazil.\n",
            "Fortaleza is a city in Brazil.\n",
            "Rome is a city in Italy.\n"
          ]
        }
      ],
      "source": [
        "def describe_city(city, country='brazil'): #only country is defined\n",
        "  \n",
        "    msg = city.title() + \" is a city in \" + country.title() + \".\" #message \n",
        "    print(msg)#printing the message\n",
        "\n",
        "describe_city('Salvador')#Defining city!\n",
        "describe_city('Fortaleza')#Defining a city again!\n",
        "describe_city('Rome', 'Italy')#Defining city and country\n"
      ]
    }
  ]
}