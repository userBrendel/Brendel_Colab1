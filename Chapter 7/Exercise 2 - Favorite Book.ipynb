{
  "nbformat": 4,
  "nbformat_minor": 0,
  "metadata": {
    "colab": {
      "provenance": []
    },
    "kernelspec": {
      "name": "python3",
      "display_name": "Python 3"
    },
    "language_info": {
      "name": "python"
    }
  },
  "cells": [
    {
      "cell_type": "code",
      "execution_count": 1,
      "metadata": {
        "colab": {
          "base_uri": "https://localhost:8080/"
        },
        "id": "776NlO3a35Dy",
        "outputId": "e8654710-45c1-4ac9-bbed-440b0e01801b"
      },
      "outputs": [
        {
          "output_type": "stream",
          "name": "stdout",
          "text": [
            "It Ends With Us is my favorite book of all times.\n"
          ]
        }
      ],
      "source": [
        "def favorite_book(title): #defining a function \n",
        "    print(title + \" is my favorite book of all times.\") #title will equals to = 'It Ends With Us'\n",
        "\n",
        "favorite_book('It Ends With Us')#This is the title. (title) to ('It Ends With Us')"
      ]
    }
  ]
}