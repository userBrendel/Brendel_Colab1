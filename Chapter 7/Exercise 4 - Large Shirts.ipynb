{
  "nbformat": 4,
  "nbformat_minor": 0,
  "metadata": {
    "colab": {
      "provenance": []
    },
    "kernelspec": {
      "name": "python3",
      "display_name": "Python 3"
    },
    "language_info": {
      "name": "python"
    }
  },
  "cells": [
    {
      "cell_type": "code",
      "execution_count": 7,
      "metadata": {
        "colab": {
          "base_uri": "https://localhost:8080/"
        },
        "id": "eVPGeY-b-cY7",
        "outputId": "37e6f99d-98d7-4c57-a1bb-7e60422711b4"
      },
      "outputs": [
        {
          "output_type": "stream",
          "name": "stdout",
          "text": [
            "\n",
            "I would like an large t-shirt.\n",
            "That have a, \"I love Python!\" text on it\n",
            "\n",
            "I would like an large t-shirt.\n",
            "That have a, \"medium\" text on it\n",
            "\n",
            "I would like an Extra small t-shirt.\n",
            "That have a, \"how are you?\" text on it\n"
          ]
        }
      ],
      "source": [
        "def make_shirt(size='large', text='I love Python!'): #Having a definition in a function!\n",
        "    \n",
        "    print(\"\\nI would like an \" + size + \" t-shirt.\") #printing!\n",
        "    print('That have a, \"' + text + '\" text on it')\n",
        "\n",
        "make_shirt() #Can put the same message above with this\n",
        "make_shirt(text='medium')#changing size with the same message above\n",
        "\n",
        "make_shirt('Extra small','how are you?') #redefining both size and text!"
      ]
    }
  ]
}