{
  "nbformat": 4,
  "nbformat_minor": 0,
  "metadata": {
    "colab": {
      "provenance": []
    },
    "kernelspec": {
      "name": "python3",
      "display_name": "Python 3"
    },
    "language_info": {
      "name": "python"
    }
  },
  "cells": [
    {
      "cell_type": "code",
      "execution_count": 7,
      "metadata": {
        "colab": {
          "base_uri": "https://localhost:8080/"
        },
        "id": "L6BBXzUq68wO",
        "outputId": "926add79-bc45-402a-cfbf-a38c0130435f"
      },
      "outputs": [
        {
          "output_type": "stream",
          "name": "stdout",
          "text": [
            "\n",
            "The size of the shirt is Xl\n",
            "and The shirt have a, \"Happy\" text on it\n",
            "\n",
            "The size of the shirt is small\n",
            "and The shirt have a, \"Sad\" text on it\n"
          ]
        }
      ],
      "source": [
        "def make_shirt(size, text): #defining function with two elements!\n",
        "   \n",
        "    print(\"\\nThe size of the shirt is \"+ size +\"\") #printing!\n",
        "    print('and The shirt have a, \"' + text + '\" text on it')\n",
        "\n",
        "make_shirt('Xl', 'Happy',) #the words that redefined size and text!\n",
        "make_shirt(text=\"Sad\", size='small') #Redefined again!"
      ]
    }
  ]
}