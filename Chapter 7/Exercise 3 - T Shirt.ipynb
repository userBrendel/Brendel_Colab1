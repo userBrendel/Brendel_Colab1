{
  "nbformat": 4,
  "nbformat_minor": 0,
  "metadata": {
    "colab": {
      "provenance": []
    },
    "kernelspec": {
      "name": "python3",
      "display_name": "Python 3"
    },
    "language_info": {
      "name": "python"
    }
  },
  "cells": [
    {
      "cell_type": "code",
      "execution_count": 9,
      "metadata": {
        "colab": {
          "base_uri": "https://localhost:8080/"
        },
        "id": "L6BBXzUq68wO",
        "outputId": "1b5bf88e-881b-4de0-9200-6670ebbc854d"
      },
      "outputs": [
        {
          "output_type": "stream",
          "name": "stdout",
          "text": [
            "\n",
            "I would like an Xl t-shirt.\n",
            "That have a, \"Happy\" text on it\n",
            "\n",
            "I would like an small t-shirt.\n",
            "That have a, \"Sad\" text on it\n"
          ]
        }
      ],
      "source": [
        "def make_shirt(size, text): #defining function with two elements!\n",
        "   \n",
        "    print(\"\\nI would like an \" + size + \" t-shirt.\") #printing!\n",
        "    print('That have a, \"' + text + '\" text on it')\n",
        "\n",
        "make_shirt('Xl', 'Happy',) #the words that redefined size and text!\n",
        "make_shirt(text=\"Sad\", size='small') #Redefined again!"
      ]
    }
  ]
}