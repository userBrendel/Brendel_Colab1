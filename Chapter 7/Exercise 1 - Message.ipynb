{
  "nbformat": 4,
  "nbformat_minor": 0,
  "metadata": {
    "colab": {
      "provenance": []
    },
    "kernelspec": {
      "name": "python3",
      "display_name": "Python 3"
    },
    "language_info": {
      "name": "python"
    }
  },
  "cells": [
    {
      "cell_type": "code",
      "execution_count": 1,
      "metadata": {
        "colab": {
          "base_uri": "https://localhost:8080/"
        },
        "id": "jg1jRZAH11kg",
        "outputId": "2d6d5cbe-794f-4f4c-e302-bb1e0fe1b2a4"
      },
      "outputs": [
        {
          "output_type": "stream",
          "name": "stdout",
          "text": [
            "I'm learning Python Language.\n"
          ]
        }
      ],
      "source": [
        "def display_message():# def is used to define a function. Function - 'display_message'\n",
        "    msg = \"I'm learning Python Language.\"\n",
        "    print(msg)\n",
        "\n",
        "display_message()"
      ]
    }
  ]
}