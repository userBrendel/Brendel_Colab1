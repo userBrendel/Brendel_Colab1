{
  "nbformat": 4,
  "nbformat_minor": 0,
  "metadata": {
    "colab": {
      "provenance": []
    },
    "kernelspec": {
      "name": "python3",
      "display_name": "Python 3"
    },
    "language_info": {
      "name": "python"
    }
  },
  "cells": [
    {
      "cell_type": "code",
      "execution_count": 1,
      "metadata": {
        "colab": {
          "base_uri": "https://localhost:8080/"
        },
        "id": "jhDN-zCpWNm0",
        "outputId": "05bdbabc-2110-40ff-e825-b3573e2527a4"
      },
      "outputs": [
        {
          "output_type": "stream",
          "name": "stdout",
          "text": [
            "You have earned 5 points\n"
          ]
        }
      ],
      "source": [
        "#True version\n",
        "alien_color='green'\n",
        "if alien_color is 'green':\n",
        "  print('You have earned 5 points')"
      ]
    },
    {
      "cell_type": "code",
      "source": [
        "#False version (no output)\n",
        "alien_color='red'\n",
        "if alien_color is 'green':\n",
        "  print('You have earned 5 points')"
      ],
      "metadata": {
        "id": "rylFhSkWWrdZ"
      },
      "execution_count": 2,
      "outputs": []
    }
  ]
}