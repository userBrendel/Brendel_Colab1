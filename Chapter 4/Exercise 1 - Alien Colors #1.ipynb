{
  "nbformat": 4,
  "nbformat_minor": 0,
  "metadata": {
    "colab": {
      "provenance": []
    },
    "kernelspec": {
      "name": "python3",
      "display_name": "Python 3"
    },
    "language_info": {
      "name": "python"
    }
  },
  "cells": [
    {
      "cell_type": "code",
      "execution_count": 1,
      "metadata": {
        "colab": {
          "base_uri": "https://localhost:8080/"
        },
        "id": "jhDN-zCpWNm0",
        "outputId": "35a95d2c-6345-459b-a8d7-621669d7c77c"
      },
      "outputs": [
        {
          "output_type": "stream",
          "name": "stdout",
          "text": [
            "You have earned 5 points\n"
          ]
        }
      ],
      "source": [
        "#True version\n",
        "alien_color='green' #variable\n",
        "if alien_color is 'green': # if green the statement below will show.\n",
        "  print('You have earned 5 points')"
      ]
    },
    {
      "cell_type": "code",
      "source": [
        "#False version (no output)\n",
        "alien_color='red' \n",
        "if alien_color is 'green':\n",
        "  print('You have earned 5 points') #alien_color='red' not green. The statement will not show"
      ],
      "metadata": {
        "id": "rylFhSkWWrdZ"
      },
      "execution_count": null,
      "outputs": []
    }
  ]
}