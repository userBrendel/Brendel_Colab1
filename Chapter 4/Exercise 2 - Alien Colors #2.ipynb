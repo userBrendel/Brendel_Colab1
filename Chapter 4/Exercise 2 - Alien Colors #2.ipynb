{
  "nbformat": 4,
  "nbformat_minor": 0,
  "metadata": {
    "colab": {
      "provenance": []
    },
    "kernelspec": {
      "name": "python3",
      "display_name": "Python 3"
    },
    "language_info": {
      "name": "python"
    }
  },
  "cells": [
    {
      "cell_type": "code",
      "execution_count": 7,
      "metadata": {
        "colab": {
          "base_uri": "https://localhost:8080/"
        },
        "id": "zZUyDVaGf9jN",
        "outputId": "f13379c7-7541-4c8f-be50-bdd73a6e10e2"
      },
      "outputs": [
        {
          "output_type": "stream",
          "name": "stdout",
          "text": [
            "Enter an alien color.\n",
            "green\n",
            "the player just earned 5 points\n"
          ]
        }
      ],
      "source": [
        "#(if) green\n",
        "alien_color='green'\n",
        "print('Enter an alien color.')\n",
        "alien_color=str(input()) #Getting data from user\n",
        "if \"green\" in alien_color:\n",
        "    print(\"the player just earned 5 points\")\n",
        "else :\n",
        "    print(\"the player just earned 10 points\")#result"
      ]
    },
    {
      "cell_type": "code",
      "source": [
        "#(else)other colors\n",
        "alien_color='green'\n",
        "print('Enter an alien color.')\n",
        "alien_color=str(input())#Getting data from user\n",
        "if \"green\" in alien_color:\n",
        "    print(\"the player just earned 5 points\")\n",
        "else :\n",
        "    print(\"the player just earned 10 points\")#result"
      ],
      "metadata": {
        "colab": {
          "base_uri": "https://localhost:8080/"
        },
        "id": "oUcUtVvjkPTx",
        "outputId": "783a936e-7d9d-46f2-e834-4a010d6f3775"
      },
      "execution_count": 8,
      "outputs": [
        {
          "output_type": "stream",
          "name": "stdout",
          "text": [
            "Enter an alien color.\n",
            "blue\n",
            "the player just earned 10 points\n"
          ]
        }
      ]
    }
  ]
}