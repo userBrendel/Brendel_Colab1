{
  "nbformat": 4,
  "nbformat_minor": 0,
  "metadata": {
    "colab": {
      "provenance": []
    },
    "kernelspec": {
      "name": "python3",
      "display_name": "Python 3"
    },
    "language_info": {
      "name": "python"
    }
  },
  "cells": [
    {
      "cell_type": "code",
      "execution_count": 3,
      "metadata": {
        "colab": {
          "base_uri": "https://localhost:8080/"
        },
        "id": "p-n41qloy7-B",
        "outputId": "19ead834-e11e-48ad-ff6e-f6428dfbb2bf"
      },
      "outputs": [
        {
          "output_type": "stream",
          "name": "stdout",
          "text": [
            "You really like bananas!\n",
            "You really like apples!\n"
          ]
        }
      ],
      "source": [
        "favorite_fruits = ['bananas', 'apples', 'grapes']# my favourite fruits in a list\n",
        "\n",
        "if 'blueberries' in favorite_fruits:\n",
        "    print(\"You love strawberry!\")\n",
        "if 'kiwis' in favorite_fruits:\n",
        "    print(\"You love kiwis!\")\n",
        "if 'peaches' in favorite_fruits:\n",
        "    print(\"You love watermelon!\")\n",
        "if 'bananas' in favorite_fruits:\n",
        "    print(\"You really like bananas!\")#will show cuz it's on my list\n",
        "if 'apples' in favorite_fruits:\n",
        "    print(\"You really like apples!\")#will show cuz it's on my list"
      ]
    }
  ]
}