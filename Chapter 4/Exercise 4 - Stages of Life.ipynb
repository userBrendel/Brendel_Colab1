{
  "nbformat": 4,
  "nbformat_minor": 0,
  "metadata": {
    "colab": {
      "provenance": []
    },
    "kernelspec": {
      "name": "python3",
      "display_name": "Python 3"
    },
    "language_info": {
      "name": "python"
    }
  },
  "cells": [
    {
      "cell_type": "code",
      "source": [
        "#baby\n",
        "age='1','2','3','4','5','6','7','8','9','10','11','12','13','14','15','16','17','18','19','20' ,'21','22','23','24','25','26','27','28','29','30'\n",
        "print(\"enter an age:\")\n",
        "age=int(input())\n",
        "if age <2: \n",
        "    print(\" the person is a baby\")# the person is less than 2 years old\n",
        "elif age <4:\n",
        "    print(\"the person is a toddler.\")#If the person is at least 2 years old but less than 4\n",
        "elif age <13:\n",
        "    print(\"the person is a kid.\")#If the person is at least 4 years old but less than 13\n",
        "elif age <20:\n",
        "    print(\"the person is a teenager.\")#If the person is at least 13 years old but less than 20\n",
        "elif age <65:\n",
        "    print(\"the person is an adult.\")#If the person is at least 20 years old but less than 65\n",
        "else:\n",
        "    print(\"the person is an elder.\")#65 or older"
      ],
      "metadata": {
        "colab": {
          "base_uri": "https://localhost:8080/"
        },
        "id": "Oz5_rfMHw9yZ",
        "outputId": "997d085c-b771-492e-e4db-73d6faa2bcb9"
      },
      "execution_count": 24,
      "outputs": [
        {
          "output_type": "stream",
          "name": "stdout",
          "text": [
            "enter an age:\n",
            "1\n",
            " the person is a baby\n"
          ]
        }
      ]
    },
    {
      "cell_type": "code",
      "source": [
        "#toddler\n",
        "age='1','2','3','4','5','6','7','8','9','10','11','12','13','14','15','16','17','18','19','20' ,'21','22','23','24','25','26','27','28','29','30'\n",
        "print(\"enter an age:\")\n",
        "age=int(input())\n",
        "if age <2: \n",
        "    print(\" the person is a baby\")# the person is less than 2 years old\n",
        "elif age <4:\n",
        "    print(\"the person is a toddler.\")#If the person is at least 2 years old but less than 4\n",
        "elif age <13:\n",
        "    print(\"the person is a kid.\")#If the person is at least 4 years old but less than 13\n",
        "elif age <20:\n",
        "    print(\"the person is a teenager.\")#If the person is at least 13 years old but less than 20\n",
        "elif age <65:\n",
        "    print(\"the person is an adult.\")#If the person is at least 20 years old but less than 65\n",
        "else:\n",
        "    print(\"the person is an elder.\")#65 or older"
      ],
      "metadata": {
        "colab": {
          "base_uri": "https://localhost:8080/"
        },
        "id": "eVxZCd-SxPLB",
        "outputId": "88e750cd-5784-4467-d10c-0d942a9e5429"
      },
      "execution_count": 25,
      "outputs": [
        {
          "output_type": "stream",
          "name": "stdout",
          "text": [
            "enter an age:\n",
            "3\n",
            "the person is a toddler.\n"
          ]
        }
      ]
    },
    {
      "cell_type": "code",
      "source": [
        "#kid\n",
        "age='1','2','3','4','5','6','7','8','9','10','11','12','13','14','15','16','17','18','19','20' ,'21','22','23','24','25','26','27','28','29','30'\n",
        "print(\"enter an age:\")\n",
        "age=int(input())\n",
        "if age <2: \n",
        "    print(\" the person is a baby\")# the person is less than 2 years old\n",
        "elif age <4:\n",
        "    print(\"the person is a toddler.\")#If the person is at least 2 years old but less than 4\n",
        "elif age <13:\n",
        "    print(\"the person is a kid.\")#If the person is at least 4 years old but less than 13\n",
        "elif age <20:\n",
        "    print(\"the person is a teenager.\")#If the person is at least 13 years old but less than 20\n",
        "elif age <65:\n",
        "    print(\"the person is an adult.\")#If the person is at least 20 years old but less than 65\n",
        "else:\n",
        "    print(\"the person is an elder.\")#65 or older"
      ],
      "metadata": {
        "colab": {
          "base_uri": "https://localhost:8080/"
        },
        "id": "V6XfBfKqxRSo",
        "outputId": "843a78d9-80d5-47dd-da08-fa45f09e43cb"
      },
      "execution_count": 27,
      "outputs": [
        {
          "output_type": "stream",
          "name": "stdout",
          "text": [
            "enter an age:\n",
            "8\n",
            "the person is a kid.\n"
          ]
        }
      ]
    },
    {
      "cell_type": "code",
      "source": [
        "#teenager\n",
        "age='1','2','3','4','5','6','7','8','9','10','11','12','13','14','15','16','17','18','19','20' ,'21','22','23','24','25','26','27','28','29','30'\n",
        "print(\"enter an age:\")\n",
        "age=int(input())\n",
        "if age <2: \n",
        "    print(\" the person is a baby\")# the person is less than 2 years old\n",
        "elif age <4:\n",
        "    print(\"the person is a toddler.\")#If the person is at least 2 years old but less than 4\n",
        "elif age <13:\n",
        "    print(\"the person is a kid.\")#If the person is at least 4 years old but less than 13\n",
        "elif age <20:\n",
        "    print(\"the person is a teenager.\")#If the person is at least 13 years old but less than 20\n",
        "elif age <65:\n",
        "    print(\"the person is an adult.\")#If the person is at least 20 years old but less than 65\n",
        "else:\n",
        "    print(\"the person is an elder.\")#65 or older"
      ],
      "metadata": {
        "colab": {
          "base_uri": "https://localhost:8080/"
        },
        "id": "VdlHglFPxWEe",
        "outputId": "d2ed54f8-d37d-4ca4-f161-635bc3efb581"
      },
      "execution_count": 28,
      "outputs": [
        {
          "output_type": "stream",
          "name": "stdout",
          "text": [
            "enter an age:\n",
            "15\n",
            "the person is a teenager.\n"
          ]
        }
      ]
    },
    {
      "cell_type": "code",
      "source": [
        "#adult\n",
        "age='1','2','3','4','5','6','7','8','9','10','11','12','13','14','15','16','17','18','19','20' ,'21','22','23','24','25','26','27','28','29','30'\n",
        "print(\"enter an age:\")\n",
        "age=int(input())\n",
        "if age <2: \n",
        "    print(\" the person is a baby\")# the person is less than 2 years old\n",
        "elif age <4:\n",
        "    print(\"the person is a toddler.\")#If the person is at least 2 years old but less than 4\n",
        "elif age <13:\n",
        "    print(\"the person is a kid.\")#If the person is at least 4 years old but less than 13\n",
        "elif age <20:\n",
        "    print(\"the person is a teenager.\")#If the person is at least 13 years old but less than 20\n",
        "elif age <65:\n",
        "    print(\"the person is an adult.\")#If the person is at least 20 years old but less than 65\n",
        "else:\n",
        "    print(\"the person is an elder.\")#65 or older"
      ],
      "metadata": {
        "colab": {
          "base_uri": "https://localhost:8080/"
        },
        "id": "RXQ8K8x6xYPK",
        "outputId": "0df82936-d3f8-46ed-a0c1-b5f2c467c2d4"
      },
      "execution_count": 34,
      "outputs": [
        {
          "output_type": "stream",
          "name": "stdout",
          "text": [
            "enter an age:\n",
            "22\n",
            "the person is an adult.\n"
          ]
        }
      ]
    },
    {
      "cell_type": "code",
      "source": [
        "#Elder\n",
        "age='1','2','3','4','5','6','7','8','9','10','11','12','13','14','15','16','17','18','19','20' ,'21','22','23','24','25','26','27','28','29','30'\n",
        "print(\"enter an age:\")\n",
        "age=int(input())\n",
        "if age <2: \n",
        "    print(\" the person is a baby\")# the person is less than 2 years old\n",
        "elif age <4:\n",
        "    print(\"the person is a toddler.\")#If the person is at least 2 years old but less than 4\n",
        "elif age <13:\n",
        "    print(\"the person is a kid.\")#If the person is at least 4 years old but less than 13\n",
        "elif age <20:\n",
        "    print(\"the person is a teenager.\")#If the person is at least 13 years old but less than 20\n",
        "elif age <65:\n",
        "    print(\"the person is an adult.\")#If the person is at least 20 years old but less than 65\n",
        "else:\n",
        "    print(\"the person is an elder \")#65 or older"
      ],
      "metadata": {
        "colab": {
          "base_uri": "https://localhost:8080/"
        },
        "id": "1xxJfhX4xhsr",
        "outputId": "e2756289-3bcf-4a03-e31a-d3b336f45f65"
      },
      "execution_count": 33,
      "outputs": [
        {
          "output_type": "stream",
          "name": "stdout",
          "text": [
            "enter an age:\n",
            "80\n",
            "the person is an elder \n"
          ]
        }
      ]
    }
  ]
}