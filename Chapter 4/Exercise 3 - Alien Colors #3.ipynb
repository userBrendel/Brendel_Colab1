{
  "nbformat": 4,
  "nbformat_minor": 0,
  "metadata": {
    "colab": {
      "provenance": []
    },
    "kernelspec": {
      "name": "python3",
      "display_name": "Python 3"
    },
    "language_info": {
      "name": "python"
    }
  },
  "cells": [
    {
      "cell_type": "code",
      "execution_count": 10,
      "metadata": {
        "colab": {
          "base_uri": "https://localhost:8080/"
        },
        "id": "6bd9Y2yZmePO",
        "outputId": "02609062-a681-4c2e-e1f0-bf2cd34004db"
      },
      "outputs": [
        {
          "output_type": "stream",
          "name": "stdout",
          "text": [
            "Enter an alien color. Choices: Green, Yellow, Red. \n",
            "green\n",
            "You earned 5 points\n"
          ]
        }
      ],
      "source": [
        "#(if)green\n",
        "alien_color='green','yellow','red'\n",
        "print('Enter an alien color. Choices: Green, Yellow, Red. ')\n",
        "alien_color=str(input())\n",
        "\n",
        "if \"green\" in alien_color:\n",
        "    print(\"You earned 5 points\")#result when player put green\n",
        "elif \"yellow\" in alien_color :\n",
        "    print(\"You earned 10 points\")\n",
        "else:\n",
        "    print(\"You earned 15 points\")"
      ]
    },
    {
      "cell_type": "code",
      "source": [
        "alien_color='green','yellow','red'\n",
        "print('Enter an alien color. Choices: Green, Yellow, Red. ')\n",
        "alien_color=str(input())\n",
        "\n",
        "if \"green\" in alien_color:\n",
        "    print(\"You earned 5 points\")\n",
        "elif \"yellow\" in alien_color :\n",
        "    print(\"You earned 10 points\")#result when player put yellow\n",
        "else:\n",
        "    print(\"You earned 15 points\")"
      ],
      "metadata": {
        "colab": {
          "base_uri": "https://localhost:8080/"
        },
        "id": "YAlEsfbenZ-A",
        "outputId": "3ae9584f-f282-403a-e11e-235ac94a86d4"
      },
      "execution_count": 11,
      "outputs": [
        {
          "output_type": "stream",
          "name": "stdout",
          "text": [
            "Enter an alien color. Choices: Green, Yellow, Red. \n",
            "yellow\n",
            "You earned 10 points\n"
          ]
        }
      ]
    },
    {
      "cell_type": "code",
      "source": [
        "#(else)red\n",
        "alien_color='green','yellow','red'\n",
        "print('Enter an alien color. Choices: Green, Yellow, Red. ')\n",
        "alien_color=str(input())\n",
        "\n",
        "if \"green\" in alien_color:\n",
        "    print(\"You earned 5 points\")\n",
        "elif \"yellow\" in alien_color :\n",
        "    print(\"You earned 10 points\")\n",
        "else:\n",
        "    print(\"You earned 15 points\")#result when player put red"
      ],
      "metadata": {
        "colab": {
          "base_uri": "https://localhost:8080/"
        },
        "id": "oH7hJM6FnT7l",
        "outputId": "f8429e10-d36a-4b7b-f2dd-887091911a45"
      },
      "execution_count": 12,
      "outputs": [
        {
          "output_type": "stream",
          "name": "stdout",
          "text": [
            "Enter an alien color. Choices: Green, Yellow, Red. \n",
            "red\n",
            "You earned 15 points\n"
          ]
        }
      ]
    }
  ]
}